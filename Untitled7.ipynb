{
  "nbformat": 4,
  "nbformat_minor": 0,
  "metadata": {
    "colab": {
      "provenance": [],
      "authorship_tag": "ABX9TyMXOOsBTnfC3jogTYf0XaMi",
      "include_colab_link": true
    },
    "kernelspec": {
      "name": "python3",
      "display_name": "Python 3"
    },
    "language_info": {
      "name": "python"
    }
  },
  "cells": [
    {
      "cell_type": "markdown",
      "metadata": {
        "id": "view-in-github",
        "colab_type": "text"
      },
      "source": [
        "<a href=\"https://colab.research.google.com/github/NellyKe/CapstoneProject/blob/main/Untitled7.ipynb\" target=\"_parent\"><img src=\"https://colab.research.google.com/assets/colab-badge.svg\" alt=\"Open In Colab\"/></a>"
      ]
    },
    {
      "cell_type": "code",
      "execution_count": null,
      "metadata": {
        "id": "VxHwwVCUDJB0"
      },
      "outputs": [],
      "source": []
    },
    {
      "cell_type": "code",
      "source": [
        "import pandas as pd\n",
        "import numpy as np\n",
        "from sklearn.model_selection import train_test_split\n",
        "from sklearn.linear_model import LinearRegression\n",
        "from sklearn.preprocessing import OneHotEncoder\n",
        "from sklearn.compose import ColumnTransformer\n",
        "from sklearn.pipeline import Pipeline\n",
        "import joblib\n",
        "\n",
        "# Load the dataset\n",
        "data = pd.read_csv('/content/accident_data.csv')\n",
        "\n",
        "# Display the first few rows and the columns of the dataset\n",
        "print(\"Dataset Columns:\", data.columns.tolist())\n",
        "print(data.head())\n",
        "\n",
        "# Define the dependent variable (target) and independent variables (features)\n",
        "X = data.drop('Accident_Severity', axis=1)\n",
        "y = data['Accident_Severity']\n",
        "\n",
        "# Define initial categorical and numerical features\n",
        "categorical_features = ['Weather_Condition', 'Road_Condition', 'Vehicle_Type']\n",
        "numerical_features = ['Time_of_Day', 'Traffic_Volume', 'Driver_Age', 'Alcohol_Consumption']\n",
        "\n",
        "# Verify and filter out columns that do not exist in the dataset\n",
        "categorical_features = [feature for feature in categorical_features if feature in data.columns]\n",
        "numerical_features = [feature for feature in numerical_features if feature in data.columns]\n",
        "\n",
        "# Notify about missing columns\n",
        "missing_features = set(['Weather_Condition', 'Road_Condition', 'Vehicle_Type', 'Time_of_Day', 'Traffic_Volume', 'Driver_Age', 'Alcohol_Consumption']) - set(categorical_features + numerical_features)\n",
        "if missing_features:\n",
        "    print(f\"Warning: The following features were not found in the dataset and will be ignored: {missing_features}\")\n",
        "\n",
        "# Create a column transformer for preprocessing\n",
        "preprocessor = ColumnTransformer(\n",
        "    transformers=[\n",
        "        ('num', 'passthrough', numerical_features),\n",
        "        ('cat', OneHotEncoder(), categorical_features)\n",
        "    ]\n",
        ")\n",
        "\n",
        "# Create a pipeline that first transforms the data then fits a linear regression model\n",
        "pipeline = Pipeline(steps=[\n",
        "    ('preprocessor', preprocessor),\n",
        "    ('regressor', LinearRegression())\n",
        "])\n",
        "\n",
        "# Split the dataset into training and testing sets\n",
        "X_train, X_test, y_train, y_test = train_test_split(X, y, test_size=0.2, random_state=42)\n",
        "\n",
        "# Fit the model on the training data\n",
        "pipeline.fit(X_train, y_train)\n",
        "\n",
        "# Save the model for future use\n",
        "joblib.dump(pipeline, '/content/accident_severity_model.pkl')\n",
        "\n",
        "# Example prediction using a hypothetical set of independent variables\n",
        "example_data = pd.DataFrame({\n",
        "    'Time_of_Day': [14],\n",
        "    'Traffic_Volume': [50],\n",
        "    'Driver_Age': [30],\n",
        "    'Alcohol_Consumption': [1],\n",
        "    'Weather_Condition': ['Rainy'],\n",
        "    'Road_Condition': ['Wet'],\n",
        "    'Vehicle_Type': ['SUV']\n",
        "})\n",
        "\n",
        "# Filter example data to include only columns available in the dataset\n",
        "example_data = example_data[[col for col in example_data.columns if col in X.columns]]\n",
        "\n",
        "# Predict the accident severity\n",
        "predicted_severity = pipeline.predict(example_data)\n",
        "print(f\"Predicted Accident Severity: {predicted_severity[0]}\")\n"
      ],
      "metadata": {
        "colab": {
          "base_uri": "https://localhost:8080/"
        },
        "id": "399assG2Fqr9",
        "outputId": "3dd91afd-d66d-4547-af06-1fad4eb520b4"
      },
      "execution_count": 21,
      "outputs": [
        {
          "output_type": "stream",
          "name": "stdout",
          "text": [
            "Dataset Columns: ['Accident_Severity', 'Time_of_Day', 'Traffic_Volume', 'Driver_Age', 'Alcohol_Consumption', 'Weather_Condition_Rainy', 'Weather_Condition_Snowy', 'Weather_Condition_Sunny', 'Road_Condition_Icy', 'Road_Condition_Wet', 'Vehicle_Type_SUV', 'Vehicle_Type_Sedan', 'Vehicle_Type_Truck']\n",
            "   Accident_Severity  Time_of_Day  Traffic_Volume  Driver_Age  \\\n",
            "0                  1           14              50          19   \n",
            "1                  0            7              65          42   \n",
            "2                  2           10              41          70   \n",
            "3                  1            9              41          56   \n",
            "4                  1            1              71          29   \n",
            "\n",
            "   Alcohol_Consumption  Weather_Condition_Rainy  Weather_Condition_Snowy  \\\n",
            "0                    0                        0                        0   \n",
            "1                    1                        1                        0   \n",
            "2                    1                        0                        0   \n",
            "3                    1                        0                        1   \n",
            "4                    1                        0                        0   \n",
            "\n",
            "   Weather_Condition_Sunny  Road_Condition_Icy  Road_Condition_Wet  \\\n",
            "0                        1                   0                   0   \n",
            "1                        0                   1                   0   \n",
            "2                        0                   0                   0   \n",
            "3                        0                   0                   0   \n",
            "4                        0                   1                   0   \n",
            "\n",
            "   Vehicle_Type_SUV  Vehicle_Type_Sedan  Vehicle_Type_Truck  \n",
            "0                 0                   1                   0  \n",
            "1                 0                   0                   1  \n",
            "2                 0                   0                   0  \n",
            "3                 1                   0                   0  \n",
            "4                 0                   0                   1  \n",
            "Warning: The following features were not found in the dataset and will be ignored: {'Weather_Condition', 'Vehicle_Type', 'Road_Condition'}\n",
            "Predicted Accident Severity: 1.4493310637592696\n"
          ]
        }
      ]
    }
  ]
}