{
  "nbformat": 4,
  "nbformat_minor": 0,
  "metadata": {
    "colab": {
      "provenance": [],
      "authorship_tag": "ABX9TyMO0vxK/L3MHCOi2fxlQ+m2",
      "include_colab_link": true
    },
    "kernelspec": {
      "name": "python3",
      "display_name": "Python 3"
    },
    "language_info": {
      "name": "python"
    }
  },
  "cells": [
    {
      "cell_type": "markdown",
      "metadata": {
        "id": "view-in-github",
        "colab_type": "text"
      },
      "source": [
        "<a href=\"https://colab.research.google.com/github/NellyKe/CapstoneProject/blob/main/Untitled10.ipynb\" target=\"_parent\"><img src=\"https://colab.research.google.com/assets/colab-badge.svg\" alt=\"Open In Colab\"/></a>"
      ]
    },
    {
      "cell_type": "code",
      "execution_count": null,
      "metadata": {
        "id": "-yAj1cRujdkq"
      },
      "outputs": [],
      "source": []
    },
    {
      "cell_type": "code",
      "source": [
        "# Import necessary libraries\n",
        "import pandas as pd\n",
        "from sklearn.model_selection import train_test_split\n",
        "from sklearn.ensemble import RandomForestClassifier\n",
        "from sklearn.metrics import classification_report, accuracy_score\n",
        "from sklearn.preprocessing import LabelEncoder\n",
        "\n",
        "# Load the synthetic data\n",
        "file_path = \"/content/Student_Enrollment_Prediction.csv\"  # Ensure the file is in the same directory or update the path\n",
        "data = pd.read_csv(file_path)\n",
        "\n",
        "# Encode categorical variables\n",
        "label_encoders = {}\n",
        "for column in [\"Gender\", \"Socioeconomic_Status\", \"Program_Interest\"]:\n",
        "    le = LabelEncoder()\n",
        "    data[column] = le.fit_transform(data[column])\n",
        "    label_encoders[column] = le\n",
        "\n",
        "# Split features and target\n",
        "features = [\n",
        "    \"Age\",\n",
        "    \"Gender\",\n",
        "    \"Socioeconomic_Status\",\n",
        "    \"Previous_Grades\",\n",
        "    \"Attendance_Rate\",\n",
        "    \"Test_Scores\",\n",
        "    \"Program_Interest\",\n",
        "    \"Communication_Frequency\",\n",
        "]\n",
        "X = data[features]\n",
        "y_enroll = data[\"Enrolled\"]\n",
        "y_graduate = data[\"Graduated\"]\n",
        "\n",
        "# Split data for enrollment prediction\n",
        "X_train_enroll, X_test_enroll, y_train_enroll, y_test_enroll = train_test_split(\n",
        "    X, y_enroll, test_size=0.2, random_state=42\n",
        ")\n",
        "\n",
        "# Split data for graduation prediction\n",
        "X_train_grad, X_test_grad, y_train_grad, y_test_grad = train_test_split(\n",
        "    X, y_graduate, test_size=0.2, random_state=42\n",
        ")\n",
        "\n",
        "# Train a Random Forest Classifier for enrollment prediction\n",
        "rf_enroll = RandomForestClassifier(random_state=42)\n",
        "rf_enroll.fit(X_train_enroll, y_train_enroll)\n",
        "\n",
        "# Train a Random Forest Classifier for graduation prediction\n",
        "rf_grad = RandomForestClassifier(random_state=42)\n",
        "rf_grad.fit(X_train_grad, y_train_grad)\n",
        "\n",
        "# Make predictions for enrollment\n",
        "y_pred_enroll = rf_enroll.predict(X_test_enroll)\n",
        "\n",
        "# Make predictions for graduation\n",
        "y_pred_grad = rf_grad.predict(X_test_grad)\n",
        "\n",
        "# Evaluate models\n",
        "enroll_report = classification_report(y_test_enroll, y_pred_enroll)\n",
        "graduate_report = classification_report(y_test_grad, y_pred_grad)\n",
        "\n",
        "# Save results to DataFrame\n",
        "results = pd.DataFrame({\n",
        "    \"Actual_Enrollment\": y_test_enroll.values,\n",
        "    \"Predicted_Enrollment\": y_pred_enroll,\n",
        "    \"Actual_Graduation\": y_test_grad.values,\n",
        "    \"Predicted_Graduation\": y_pred_grad,\n",
        "})\n",
        "\n",
        "# Display Predictions and Reports\n",
        "print(\"\\n--- Enrollment and Graduation Predictions ---\")\n",
        "print(results.head())\n",
        "\n",
        "print(\"\\n--- Enrollment Prediction Report ---\")\n",
        "print(enroll_report)\n",
        "\n",
        "print(\"\\n--- Graduation Prediction Report ---\")\n",
        "print(graduate_report)\n",
        "\n",
        "# Save to CSV\n",
        "results_file_path = \"Enrollment_Graduation_Predictions.csv\"\n",
        "results.to_csv(results_file_path, index=False)\n",
        "print(f\"\\nPredictions saved to: {results_file_path}\")"
      ],
      "metadata": {
        "colab": {
          "base_uri": "https://localhost:8080/"
        },
        "id": "FxumfiTIj__R",
        "outputId": "b95d13b6-9859-45a9-e00a-f72f04c9a455"
      },
      "execution_count": 3,
      "outputs": [
        {
          "output_type": "stream",
          "name": "stdout",
          "text": [
            "\n",
            "--- Enrollment and Graduation Predictions ---\n",
            "   Actual_Enrollment  Predicted_Enrollment  Actual_Graduation  \\\n",
            "0                  0                     1                  0   \n",
            "1                  0                     1                  1   \n",
            "2                  1                     1                  1   \n",
            "3                  0                     1                  1   \n",
            "4                  1                     1                  0   \n",
            "\n",
            "   Predicted_Graduation  \n",
            "0                     1  \n",
            "1                     1  \n",
            "2                     1  \n",
            "3                     1  \n",
            "4                     0  \n",
            "\n",
            "--- Enrollment Prediction Report ---\n",
            "              precision    recall  f1-score   support\n",
            "\n",
            "           0       0.25      0.07      0.11        29\n",
            "           1       0.71      0.92      0.80        71\n",
            "\n",
            "    accuracy                           0.67       100\n",
            "   macro avg       0.48      0.49      0.45       100\n",
            "weighted avg       0.57      0.67      0.60       100\n",
            "\n",
            "\n",
            "--- Graduation Prediction Report ---\n",
            "              precision    recall  f1-score   support\n",
            "\n",
            "           0       0.18      0.09      0.12        33\n",
            "           1       0.64      0.79      0.71        67\n",
            "\n",
            "    accuracy                           0.56       100\n",
            "   macro avg       0.41      0.44      0.41       100\n",
            "weighted avg       0.49      0.56      0.51       100\n",
            "\n",
            "\n",
            "Predictions saved to: Enrollment_Graduation_Predictions.csv\n"
          ]
        }
      ]
    }
  ]
}